{
 "cells": [
  {
   "cell_type": "code",
   "execution_count": null,
   "id": "56172890",
   "metadata": {},
   "outputs": [],
   "source": [
    "import os\n",
    "import nltk\n"
   ]
  },
  {
   "cell_type": "markdown",
   "id": "78f3f0c5",
   "metadata": {},
   "source": [
    "Définir manuellement le chemin des ressources sur sda2"
   ]
  },
  {
   "cell_type": "code",
   "execution_count": null,
   "id": "e0405760",
   "metadata": {},
   "outputs": [],
   "source": [
    "BASE_PATH = \"/home/datascientest/cde/data/processed/resources\"\n",
    "NLTK_PATH = os.path.join(BASE_PATH, \"nltk_data\")\n"
   ]
  },
  {
   "cell_type": "markdown",
   "id": "4d890739",
   "metadata": {},
   "source": [
    "Définir les variables d’environnement avant toute utilisation"
   ]
  },
  {
   "cell_type": "code",
   "execution_count": null,
   "id": "77a58697",
   "metadata": {},
   "outputs": [],
   "source": [
    "os.environ['NLTK_DATA'] = NLTK_PATH\n"
   ]
  },
  {
   "cell_type": "markdown",
   "id": "b26854d1",
   "metadata": {},
   "source": [
    "Ajouter ce chemin aux chemins de recherche de nltk"
   ]
  },
  {
   "cell_type": "code",
   "execution_count": null,
   "id": "b60fd7a4",
   "metadata": {},
   "outputs": [],
   "source": [
    "nltk.data.path.append(NLTK_PATH)\n"
   ]
  },
  {
   "cell_type": "markdown",
   "id": "166d8961",
   "metadata": {},
   "source": [
    "Télécharger les stopwords dans ce dossier"
   ]
  },
  {
   "cell_type": "code",
   "execution_count": null,
   "id": "04b195e5",
   "metadata": {},
   "outputs": [],
   "source": [
    "nltk.download(\"stopwords\", download_dir=NLTK_PATH)\n",
    "\n",
    "print(f\"✅ Stopwords téléchargés dans : {NLTK_PATH}\")\n",
    "\n"
   ]
  }
 ],
 "metadata": {
  "kernelspec": {
   "display_name": "Python 3",
   "language": "python",
   "name": "python3"
  },
  "language_info": {
   "codemirror_mode": {
    "name": "ipython",
    "version": 3
   },
   "file_extension": ".py",
   "mimetype": "text/x-python",
   "name": "python",
   "nbconvert_exporter": "python",
   "pygments_lexer": "ipython3",
   "version": "3.9.0"
  }
 },
 "nbformat": 4,
 "nbformat_minor": 5
}
