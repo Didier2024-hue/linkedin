{
 "cells": [
  {
   "cell_type": "code",
   "execution_count": null,
   "id": "7b8141fb",
   "metadata": {},
   "outputs": [],
   "source": [
    "import os\n",
    "import json\n",
    "import re\n",
    "from datetime import datetime\n",
    "import psycopg2\n",
    "from psycopg2 import OperationalError\n",
    "from dotenv import load_dotenv\n"
   ]
  },
  {
   "cell_type": "markdown",
   "id": "ae52bab1",
   "metadata": {},
   "source": [
    "Chargement des variables d'environnement"
   ]
  },
  {
   "cell_type": "code",
   "execution_count": null,
   "id": "d282eaca",
   "metadata": {},
   "outputs": [],
   "source": [
    "load_dotenv()\n"
   ]
  },
  {
   "cell_type": "markdown",
   "id": "74cd5add",
   "metadata": {},
   "source": [
    "Configuration"
   ]
  },
  {
   "cell_type": "code",
   "execution_count": null,
   "id": "01a0a436",
   "metadata": {},
   "outputs": [],
   "source": [
    "DATA_RAW_TRUSTPILOT = os.getenv(\"DATA_RAW_TRUSTPILOT\")\n",
    "LOG_DIR = os.getenv(\"LOG_DIR\")\n",
    "SOCIETES_A_TRAITER = ['temu', 'tesla', 'chronopost', 'vinted']\n",
    "\n",
    "class Logger:\n",
    "    def __init__(self, filepath):\n",
    "        self.filepath = filepath\n",
    "        self.log_lines = []\n",
    "    \n",
    "    def print(self, msg):\n",
    "        print(msg)\n",
    "        self.log_lines.append(msg)\n",
    "    \n",
    "    def save(self):\n",
    "        try:\n",
    "            with open(self.filepath, \"w\", encoding=\"utf-8\") as f:\n",
    "                f.write(\"\\n\".join(self.log_lines))\n",
    "        except Exception as e:\n",
    "            print(f\"Erreur sauvegarde log : {e}\")\n",
    "\n",
    "def ensure_log_dir():\n",
    "    if not os.path.exists(LOG_DIR):\n",
    "        os.makedirs(LOG_DIR)\n",
    "\n",
    "def get_log_file():\n",
    "    return os.path.join(LOG_DIR, f\"import_{datetime.now().strftime('%Y%m%d_%H%M%S')}.log\")\n",
    "\n",
    "def connect_db():\n",
    "    try:\n",
    "        return psycopg2.connect(\n",
    "            dbname=os.getenv(\"POSTGRES_DB\"),\n",
    "            user=os.getenv(\"POSTGRES_USER\"),\n",
    "            password=os.getenv(\"POSTGRES_PASSWORD\"),\n",
    "            host=os.getenv(\"POSTGRES_HOST\"),\n",
    "            port=os.getenv(\"POSTGRES_PORT\")\n",
    "        )\n",
    "    except OperationalError as e:\n",
    "        raise RuntimeError(f\"Erreur connexion PostgreSQL : {e}\")\n",
    "\n",
    "def truncate_tables(cur, logger):\n",
    "    try:\n",
    "        cur.execute(\"TRUNCATE TABLE avis_trustpilot, societe CASCADE;\")\n",
    "        logger.print(\"🗑️ Tables vidées (avis_trustpilot et societe)\")\n",
    "    except Exception as e:\n",
    "        logger.print(f\"Erreur TRUNCATE tables : {e}\")\n",
    "        raise\n",
    "\n",
    "def safe_int(val):\n",
    "    if val is None:\n",
    "        return 0\n",
    "    if isinstance(val, (int, float)):\n",
    "        return int(val)\n",
    "    try:\n",
    "        cleaned = ''.join(c for c in str(val) if c.isdigit() or c in '.-')\n",
    "        return int(float(cleaned.split()[0])) if cleaned.split() else 0\n",
    "    except (ValueError, TypeError):\n",
    "        return 0\n",
    "\n",
    "def insert_societe(cur, societe_data, logger):\n",
    "    repartition = societe_data.get(\"repartition_avis\", {})\n",
    "    \n",
    "    notes = {\n",
    "        '1': safe_int(repartition.get(\"1\") or repartition.get(\"1 étoile\") or repartition.get(\"1 star\")),\n",
    "        '2': safe_int(repartition.get(\"2\") or repartition.get(\"2 étoiles\") or repartition.get(\"2 stars\")),\n",
    "        '3': safe_int(repartition.get(\"3\") or repartition.get(\"3 étoiles\") or repartition.get(\"3 stars\")),\n",
    "        '4': safe_int(repartition.get(\"4\") or repartition.get(\"4 étoiles\") or repartition.get(\"4 stars\")),\n",
    "        '5': safe_int(repartition.get(\"5\") or repartition.get(\"5 étoiles\") or repartition.get(\"5 stars\"))\n",
    "    }\n",
    "\n",
    "    date_extraction = None\n",
    "    if societe_data.get(\"date_extraction\"):\n",
    "        try:\n",
    "            date_extraction = datetime.strptime(societe_data[\"date_extraction\"], \"%Y-%m-%d %H:%M:%S\")\n",
    "        except ValueError:\n",
    "            logger.print(f\"⚠ Format date invalide : {societe_data.get('date_extraction')}\")\n",
    "\n",
    "    try:"
   ]
  }
 ],
 "metadata": {
  "kernelspec": {
   "display_name": "Python 3",
   "language": "python",
   "name": "python3"
  },
  "language_info": {
   "codemirror_mode": {
    "name": "ipython",
    "version": 3
   },
   "file_extension": ".py",
   "mimetype": "text/x-python",
   "name": "python",
   "nbconvert_exporter": "python",
   "pygments_lexer": "ipython3",
   "version": "3.9.0"
  }
 },
 "nbformat": 4,
 "nbformat_minor": 5
}
