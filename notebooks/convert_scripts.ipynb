{
 "cells": [
  {
   "cell_type": "code",
   "execution_count": null,
   "id": "1778383f",
   "metadata": {},
   "outputs": [],
   "source": [
    "#!/usr/bin/env python3"
   ]
  },
  {
   "cell_type": "markdown",
   "id": "3a9b8db7",
   "metadata": {},
   "source": [
    "-*- coding: utf-8 -*-"
   ]
  },
  {
   "cell_type": "markdown",
   "id": "d5843192",
   "metadata": {},
   "source": [
    "Détermine si une ligne est un commentaire."
   ]
  },
  {
   "cell_type": "markdown",
   "id": "363bc270",
   "metadata": {},
   "source": [
    "Détecte le début d'un commentaire multiligne."
   ]
  },
  {
   "cell_type": "markdown",
   "id": "be745b5e",
   "metadata": {},
   "source": [
    "    return '\n",
    "Extrait le contenu d'un commentaire multiligne."
   ]
  },
  {
   "cell_type": "markdown",
   "id": "f2bde4dc",
   "metadata": {},
   "source": [
    "    if '\n",
    "        delimiter = '\n",
    "        delimiter = \"\n",
    "    \n",
    "    \n",
    "Crée un vrai notebook Jupyter avec toutes les métadonnées."
   ]
  },
  {
   "cell_type": "code",
   "execution_count": null,
   "id": "1fc44279",
   "metadata": {},
   "outputs": [],
   "source": [
    "\n",
    "    stripped = line.strip()\n",
    "    return stripped.startswith('#') and not stripped.startswith('#!')\n",
    "\n",
    "def is_multiline_comment_start(line: str) -> bool:\n",
    "    notebook = nbformat.v4.new_notebook()\n",
    "    notebook['cells'] = cells\n",
    "    "
   ]
  },
  {
   "cell_type": "markdown",
   "id": "208849c5",
   "metadata": {},
   "source": [
    "    # Métadonnées complètes"
   ]
  },
  {
   "cell_type": "markdown",
   "id": "18fe58d2",
   "metadata": {},
   "source": [
    "Convertit un fichier Python en notebook Jupyter professionnel."
   ]
  },
  {
   "cell_type": "code",
   "execution_count": null,
   "id": "9827f71f",
   "metadata": {},
   "outputs": [],
   "source": [
    "    notebook['metadata'] = {\n",
    "        'kernelspec': {\n",
    "            'display_name': 'Python 3',\n",
    "            'language': 'python',\n",
    "            'name': 'python3'\n",
    "        },\n",
    "        'language_info': {\n",
    "            'name': 'python',\n",
    "            'version': '3.9.0',\n",
    "            'mimetype': 'text/x-python',\n",
    "            'codemirror_mode': {\n",
    "                'name': 'ipython',\n",
    "                'version': 3\n",
    "            },\n",
    "            'pygments_lexer': 'ipython3',\n",
    "            'nbconvert_exporter': 'python',\n",
    "            'file_extension': '.py'\n",
    "        }\n",
    "    }\n",
    "    \n",
    "    return notebook\n",
    "\n",
    "def convert_python_file_to_notebook(py_path: Path, output_dir: Path) -> bool:\n",
    "    try:\n",
    "        print(f\"🔄 Conversion de: {py_path.name}\")\n",
    "        "
   ]
  },
  {
   "cell_type": "markdown",
   "id": "6dbeb85d",
   "metadata": {},
   "source": [
    "        # Lire le contenu"
   ]
  },
  {
   "cell_type": "code",
   "execution_count": null,
   "id": "a03be865",
   "metadata": {},
   "outputs": [],
   "source": [
    "        content = py_path.read_text(encoding='utf-8')\n",
    "        "
   ]
  },
  {
   "cell_type": "markdown",
   "id": "156757a6",
   "metadata": {},
   "source": [
    "        # Parser en cellules"
   ]
  },
  {
   "cell_type": "code",
   "execution_count": null,
   "id": "b8f8b807",
   "metadata": {},
   "outputs": [],
   "source": [
    "        cells = parse_python_to_cells(content)\n",
    "        \n",
    "        if not cells:\n",
    "            print(f\"⚠️  Fichier vide ou sans contenu convertible: {py_path.name}\")\n",
    "            return False\n",
    "        "
   ]
  },
  {
   "cell_type": "markdown",
   "id": "da0a773c",
   "metadata": {},
   "source": [
    "        # Créer le notebook"
   ]
  },
  {
   "cell_type": "code",
   "execution_count": null,
   "id": "6f055177",
   "metadata": {},
   "outputs": [],
   "source": [
    "        notebook = create_jupyter_notebook(cells)\n",
    "        "
   ]
  },
  {
   "cell_type": "markdown",
   "id": "18d9cd5b",
   "metadata": {},
   "source": [
    "        # Nom du fichier de sortie"
   ]
  },
  {
   "cell_type": "code",
   "execution_count": null,
   "id": "f904d610",
   "metadata": {},
   "outputs": [],
   "source": [
    "        notebook_name = py_path.stem + \".ipynb\"\n",
    "        notebook_path = output_dir / notebook_name\n",
    "        "
   ]
  },
  {
   "cell_type": "markdown",
   "id": "83d55974",
   "metadata": {},
   "source": [
    "        # Écrire le notebook"
   ]
  },
  {
   "cell_type": "code",
   "execution_count": null,
   "id": "cdc2ee90",
   "metadata": {},
   "outputs": [],
   "source": [
    "        with open(notebook_path, 'w', encoding='utf-8') as f:\n",
    "            nbformat.write(notebook, f, version=4)\n",
    "        "
   ]
  },
  {
   "cell_type": "markdown",
   "id": "3894f9a7",
   "metadata": {},
   "source": [
    "        # Statistiques"
   ]
  },
  {
   "cell_type": "markdown",
   "id": "ceac2c47",
   "metadata": {},
   "source": [
    "Conversion principale."
   ]
  },
  {
   "cell_type": "code",
   "execution_count": null,
   "id": "7e144eb7",
   "metadata": {},
   "outputs": [],
   "source": [
    "        code_cells = sum(1 for cell in cells if cell['cell_type'] == 'code')\n",
    "        md_cells = sum(1 for cell in cells if cell['cell_type'] == 'markdown')\n",
    "        \n",
    "        print(f\"✅ {py_path.name} → {notebook_name} ({code_cells}⧵{md_cells})\")\n",
    "        return True\n",
    "        \n",
    "    except Exception as e:\n",
    "        print(f\"❌ Erreur avec {py_path.name}: {str(e)}\")\n",
    "        return False\n",
    "\n",
    "def main():\n",
    "    scripts_dir = Path(\"/home/datascientest/cde/scripts/\")\n",
    "    notebooks_dir = Path(\"/home/datascientest/cde/notebooks/\")\n",
    "    \n",
    "    print(\"🎯 CONVERSION VERS DE VRAIS NOTEBOOKS JUPYTER\")\n",
    "    print(\"=\" * 60)\n",
    "    print(f\"📁 Source: {scripts_dir}\")\n",
    "    print(f\"📁 Destination: {notebooks_dir}\")\n",
    "    print(\"=\" * 60)\n",
    "    "
   ]
  },
  {
   "cell_type": "markdown",
   "id": "c5a88e36",
   "metadata": {},
   "source": [
    "    # Vérifications"
   ]
  },
  {
   "cell_type": "code",
   "execution_count": null,
   "id": "589f2cf5",
   "metadata": {},
   "outputs": [],
   "source": [
    "    if not scripts_dir.exists():\n",
    "        print(\"❌ Le dossier scripts n'existe pas!\")\n",
    "        return 1\n",
    "    \n",
    "    notebooks_dir.mkdir(exist_ok=True)\n",
    "    "
   ]
  },
  {
   "cell_type": "markdown",
   "id": "a1d368fa",
   "metadata": {},
   "source": [
    "    # Trouver les fichiers Python"
   ]
  },
  {
   "cell_type": "code",
   "execution_count": null,
   "id": "5228a5cf",
   "metadata": {},
   "outputs": [],
   "source": [
    "    py_files = list(scripts_dir.rglob(\"*.py\"))\n",
    "    py_files = [f for f in py_files if f.name != \"__init__.py\"]\n",
    "    \n",
    "    print(f\"📊 {len(py_files)} fichiers Python trouvés\")\n",
    "    print(\"-\" * 60)\n",
    "    "
   ]
  },
  {
   "cell_type": "markdown",
   "id": "9c205708",
   "metadata": {},
   "source": [
    "    # Conversion"
   ]
  },
  {
   "cell_type": "code",
   "execution_count": null,
   "id": "b685b780",
   "metadata": {},
   "outputs": [],
   "source": [
    "    success_count = 0\n",
    "    for py_file in py_files:\n",
    "        if convert_python_file_to_notebook(py_file, notebooks_dir):\n",
    "            success_count += 1\n",
    "    "
   ]
  },
  {
   "cell_type": "markdown",
   "id": "6eba4524",
   "metadata": {},
   "source": [
    "    # Rapport final"
   ]
  },
  {
   "cell_type": "code",
   "execution_count": null,
   "id": "7f8ea714",
   "metadata": {},
   "outputs": [],
   "source": [
    "    print(\"=\" * 60)\n",
    "    print(f\"🎉 CONVERSION TERMINÉE!\")\n",
    "    print(f\"✅ {success_count} fichiers convertis avec succès\")\n",
    "    print(f\"❌ {len(py_files) - success_count} échecs\")\n",
    "    print(f\"📁 Notebooks disponibles dans: {notebooks_dir}\")\n",
    "    "
   ]
  },
  {
   "cell_type": "markdown",
   "id": "b9839c5e",
   "metadata": {},
   "source": [
    "    # Vérification"
   ]
  },
  {
   "cell_type": "code",
   "execution_count": null,
   "id": "29b6697a",
   "metadata": {},
   "outputs": [],
   "source": [
    "    nb_files = list(notebooks_dir.glob(\"*.ipynb\"))\n",
    "    if nb_files:\n",
    "        print(f\"\\n📋 {len(nb_files)} notebooks créés:\")\n",
    "        for nb_file in nb_files:\n",
    "            print(f\"   • {nb_file.name}\")\n",
    "    \n",
    "    return 0\n",
    "\n",
    "if __name__ == \"__main__\":\n",
    "    exit(main())\n"
   ]
  }
 ],
 "metadata": {
  "kernelspec": {
   "display_name": "Python 3",
   "language": "python",
   "name": "python3"
  },
  "language_info": {
   "codemirror_mode": {
    "name": "ipython",
    "version": 3
   },
   "file_extension": ".py",
   "mimetype": "text/x-python",
   "name": "python",
   "nbconvert_exporter": "python",
   "pygments_lexer": "ipython3",
   "version": "3.9.0"
  }
 },
 "nbformat": 4,
 "nbformat_minor": 5
}
