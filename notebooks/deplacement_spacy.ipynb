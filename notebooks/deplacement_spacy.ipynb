{
 "cells": [
  {
   "cell_type": "code",
   "execution_count": null,
   "id": "c73b794b",
   "metadata": {},
   "outputs": [],
   "source": [
    "import os\n",
    "import nltk\n",
    "from spacy.cli import download\n"
   ]
  },
  {
   "cell_type": "markdown",
   "id": "084e052a",
   "metadata": {},
   "source": [
    "Définir la base de stockage sur sda2"
   ]
  },
  {
   "cell_type": "code",
   "execution_count": null,
   "id": "18e92fc0",
   "metadata": {},
   "outputs": [],
   "source": [
    "BASE_PATH = \"/home/datascientest/cde/data/processed/resources\"\n",
    "NLTK_PATH = os.path.join(BASE_PATH, \"nltk_data\")\n",
    "XDG_CACHE_PATH = os.path.join(BASE_PATH, \"xdg_cache\")\n"
   ]
  },
  {
   "cell_type": "markdown",
   "id": "a1c32e55",
   "metadata": {},
   "source": [
    "🔧 Variables d’environnement"
   ]
  },
  {
   "cell_type": "code",
   "execution_count": null,
   "id": "3f53f04e",
   "metadata": {},
   "outputs": [],
   "source": [
    "os.environ[\"NLTK_DATA\"] = NLTK_PATH\n",
    "os.environ[\"XDG_CACHE_HOME\"] = XDG_CACHE_PATH  # spaCy utilise ce cache\n"
   ]
  },
  {
   "cell_type": "markdown",
   "id": "f8c438ae",
   "metadata": {},
   "source": [
    "📚 Télécharger les stopwords dans sda2"
   ]
  },
  {
   "cell_type": "code",
   "execution_count": null,
   "id": "629bcbdc",
   "metadata": {},
   "outputs": [],
   "source": [
    "nltk.data.path.append(NLTK_PATH)\n",
    "nltk.download(\"stopwords\", download_dir=NLTK_PATH)\n"
   ]
  },
  {
   "cell_type": "markdown",
   "id": "2c9b5d5b",
   "metadata": {},
   "source": [
    "📥 Télécharger le modèle spaCy (il sera mis dans ~/.cache/spacy par défaut)"
   ]
  },
  {
   "cell_type": "code",
   "execution_count": null,
   "id": "f4a4dc5e",
   "metadata": {},
   "outputs": [],
   "source": [
    "download(\"fr_core_news_sm\")\n",
    "\n",
    "print(\"✅ Modèle spaCy téléchargé. Tu peux maintenant déplacer ~/.cache si tu veux tout centraliser.\")\n",
    "\n"
   ]
  }
 ],
 "metadata": {
  "kernelspec": {
   "display_name": "Python 3",
   "language": "python",
   "name": "python3"
  },
  "language_info": {
   "codemirror_mode": {
    "name": "ipython",
    "version": 3
   },
   "file_extension": ".py",
   "mimetype": "text/x-python",
   "name": "python",
   "nbconvert_exporter": "python",
   "pygments_lexer": "ipython3",
   "version": "3.9.0"
  }
 },
 "nbformat": 4,
 "nbformat_minor": 5
}
