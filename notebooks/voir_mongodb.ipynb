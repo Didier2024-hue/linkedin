{
 "cells": [
  {
   "cell_type": "code",
   "execution_count": null,
   "id": "d6c4fa99",
   "metadata": {},
   "outputs": [],
   "source": [
    "import os\n",
    "import logging\n",
    "from dotenv import load_dotenv\n",
    "from pymongo import MongoClient\n",
    "from pprint import pformat\n"
   ]
  },
  {
   "cell_type": "markdown",
   "id": "2e710c72",
   "metadata": {},
   "source": [
    "Charger les variables d'environnement"
   ]
  },
  {
   "cell_type": "code",
   "execution_count": null,
   "id": "cedd56ef",
   "metadata": {},
   "outputs": [],
   "source": [
    "load_dotenv()\n"
   ]
  },
  {
   "cell_type": "markdown",
   "id": "3a25f0c8",
   "metadata": {},
   "source": [
    "Configuration MongoDB"
   ]
  },
  {
   "cell_type": "code",
   "execution_count": null,
   "id": "3c97322e",
   "metadata": {},
   "outputs": [],
   "source": [
    "MONGO_URI = f\"mongodb://{os.getenv('MONGO_USER')}:{os.getenv('MONGO_PASSWORD')}@{os.getenv('MONGO_HOST')}:{os.getenv('MONGO_PORT')}/\"\n"
   ]
  },
  {
   "cell_type": "markdown",
   "id": "a162f1ec",
   "metadata": {},
   "source": [
    "Configuration du logging"
   ]
  },
  {
   "cell_type": "markdown",
   "id": "30ef3b85",
   "metadata": {},
   "source": [
    "Affiche une ligne de séparation avec titre optionnel"
   ]
  },
  {
   "cell_type": "markdown",
   "id": "6b842ab8",
   "metadata": {},
   "source": [
    "Affiche un document de manière formatée"
   ]
  },
  {
   "cell_type": "code",
   "execution_count": null,
   "id": "473a474d",
   "metadata": {},
   "outputs": [],
   "source": [
    "logging.basicConfig(\n",
    "    level=logging.INFO,\n",
    "    format='%(message)s',\n",
    "    handlers=[logging.StreamHandler()]\n",
    ")\n",
    "\n",
    "def print_separator(title=None, width=60):\n",
    "    if title:\n",
    "        logging.info(\"\\n\" + \"=\" * width)\n",
    "        logging.info(f\" {title.upper()} \".center(width, '~'))\n",
    "        logging.info(\"=\" * width + \"\\n\")\n",
    "    else:\n",
    "        logging.info(\"-\" * width)\n",
    "\n",
    "def print_document(doc, doc_num, width=60):\n",
    "    logging.info(f\"\\n📄 DOCUMENT #{doc_num}\")\n",
    "    logging.info(\"-\" * width)\n",
    "    "
   ]
  },
  {
   "cell_type": "markdown",
   "id": "42678173",
   "metadata": {},
   "source": [
    "    # Formater le document pour un affichage lisible"
   ]
  },
  {
   "cell_type": "markdown",
   "id": "9b5f6308",
   "metadata": {},
   "source": [
    "Affiche les bases, collections et des exemples de documents"
   ]
  },
  {
   "cell_type": "code",
   "execution_count": null,
   "id": "62b25707",
   "metadata": {},
   "outputs": [],
   "source": [
    "    formatted_doc = pformat(doc, width=width, indent=2, depth=2)\n",
    "    for line in formatted_doc.split('\\n'):\n",
    "        logging.info(line)\n",
    "    \n",
    "    logging.info(\"-\" * width)\n",
    "\n",
    "def print_database_info(client, sample_size=5):\n",
    "    print_separator(\"Structure MongoDB\")\n",
    "    \n",
    "    for db_name in sorted(client.list_database_names()):\n",
    "        if db_name not in ['admin', 'config', 'local']:\n",
    "            db = client[db_name]\n",
    "            logging.info(f\"\\n🔷 BASE DE DONNÉES: {db_name}\")\n",
    "            \n",
    "            for col_name in sorted(db.list_collection_names()):\n",
    "                print_separator(f\"Collection: {col_name}\")\n",
    "                "
   ]
  },
  {
   "cell_type": "markdown",
   "id": "372cf78a",
   "metadata": {},
   "source": [
    "                # Afficher les stats de la collection"
   ]
  },
  {
   "cell_type": "code",
   "execution_count": null,
   "id": "5013cf4d",
   "metadata": {},
   "outputs": [],
   "source": [
    "                stats = db.command(\"collstats\", col_name)\n",
    "                logging.info(f\"📦 Documents totaux: {stats['count']:,}\")\n",
    "                logging.info(f\"📊 Taille: {stats['size']/(1024*1024):.2f} MB\\n\")\n",
    "                "
   ]
  },
  {
   "cell_type": "markdown",
   "id": "8ec4dda0",
   "metadata": {},
   "source": [
    "                # Afficher des exemples de documents"
   ]
  },
  {
   "cell_type": "code",
   "execution_count": null,
   "id": "3da84909",
   "metadata": {},
   "outputs": [],
   "source": [
    "                try:\n",
    "                    for i, doc in enumerate(db[col_name].find().limit(sample_size), 1):\n",
    "                        print_document(doc, i)\n",
    "                except Exception as e:\n",
    "                    logging.error(f\"❌ Impossible de lire les documents: {str(e)}\")\n",
    "                    continue\n",
    "\n",
    "def main():\n",
    "    try:\n",
    "        client = MongoClient(MONGO_URI)\n",
    "        print_database_info(client)\n",
    "    except Exception as e:\n",
    "        logging.error(f\"\\n❌ ERREUR CONNEXION: {str(e)}\")\n",
    "    finally:\n",
    "        if 'client' in locals():\n",
    "            client.close()\n",
    "            logging.info(\"\\n🔌 Connexion MongoDB fermée\")\n",
    "\n",
    "if __name__ == \"__main__\":\n",
    "    main()"
   ]
  }
 ],
 "metadata": {
  "kernelspec": {
   "display_name": "Python 3",
   "language": "python",
   "name": "python3"
  },
  "language_info": {
   "codemirror_mode": {
    "name": "ipython",
    "version": 3
   },
   "file_extension": ".py",
   "mimetype": "text/x-python",
   "name": "python",
   "nbconvert_exporter": "python",
   "pygments_lexer": "ipython3",
   "version": "3.9.0"
  }
 },
 "nbformat": 4,
 "nbformat_minor": 5
}
