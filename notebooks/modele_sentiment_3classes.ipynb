{
 "cells": [
  {
   "cell_type": "code",
   "execution_count": null,
   "id": "efdc52f0",
   "metadata": {},
   "outputs": [],
   "source": [
    "import pandas as pd\n",
    "import numpy as np\n",
    "import os\n",
    "import joblib\n",
    "import matplotlib.pyplot as plt\n",
    "import seaborn as sns\n",
    "\n",
    "from sklearn.model_selection import train_test_split, GridSearchCV\n",
    "from sklearn.feature_extraction.text import TfidfVectorizer\n",
    "from sklearn.linear_model import LogisticRegression\n",
    "from sklearn.svm import LinearSVC\n",
    "from sklearn.metrics import accuracy_score, classification_report, confusion_matrix\n"
   ]
  },
  {
   "cell_type": "markdown",
   "id": "29ce81c6",
   "metadata": {},
   "source": [
    "📥 1. Chargement"
   ]
  },
  {
   "cell_type": "code",
   "execution_count": null,
   "id": "858c7a43",
   "metadata": {},
   "outputs": [],
   "source": [
    "print(\"📥 Chargement des données...\")\n",
    "file_path = \"/home/datascientest/cde/data/processed/preprocessed_clean_avis_avec_sentiments.csv\"\n",
    "df = pd.read_csv(file_path)\n",
    "print(f\"✅ Données chargées : {df.shape[0]} lignes\")\n"
   ]
  },
  {
   "cell_type": "markdown",
   "id": "d8deada5",
   "metadata": {},
   "source": [
    "🧹 2. Nettoyage"
   ]
  },
  {
   "cell_type": "code",
   "execution_count": null,
   "id": "e9c40e25",
   "metadata": {},
   "outputs": [],
   "source": [
    "df = df.dropna(subset=['commentaire_preprocessed'])\n",
    "df = df[df['commentaire_preprocessed'].str.strip().astype(bool)]\n",
    "print(f\"✅ Commentaires valides : {df.shape[0]}\")\n"
   ]
  },
  {
   "cell_type": "markdown",
   "id": "699bc7f8",
   "metadata": {},
   "source": [
    "🧠 3. Gestion de la négation"
   ]
  },
  {
   "cell_type": "code",
   "execution_count": null,
   "id": "5add4ecf",
   "metadata": {},
   "outputs": [],
   "source": [
    "def preserve_negation(text):\n",
    "    return text.replace(\"pas \", \"pas_\").replace(\"non \", \"non_\")\n",
    "\n",
    "df['commentaire_preprocessed'] = df['commentaire_preprocessed'].apply(preserve_negation)\n"
   ]
  },
  {
   "cell_type": "markdown",
   "id": "18e0d82c",
   "metadata": {},
   "source": [
    "🏷️ 4. Regroupement des classes en 3 catégories"
   ]
  },
  {
   "cell_type": "code",
   "execution_count": null,
   "id": "2d68b056",
   "metadata": {},
   "outputs": [],
   "source": [
    "def simplifier_note(n):\n",
    "    if n == 1:\n",
    "        return 'negatif'\n",
    "    elif n == 5:\n",
    "        return 'positif'\n",
    "    else:\n",
    "        return 'neutre'\n",
    "\n",
    "X = df['commentaire_preprocessed']\n",
    "y = df['note_commentaire'].apply(simplifier_note)\n",
    "print(f\"🔢 Répartition des classes :\\n{y.value_counts()}\")\n"
   ]
  },
  {
   "cell_type": "markdown",
   "id": "ddc59259",
   "metadata": {},
   "source": [
    "✍️ 5. Vectorisation TF-IDF"
   ]
  },
  {
   "cell_type": "code",
   "execution_count": null,
   "id": "351435ce",
   "metadata": {},
   "outputs": [],
   "source": [
    "print(\"✍️ TF-IDF...\")\n",
    "tfidf = TfidfVectorizer(max_features=1000)\n",
    "X_vect = tfidf.fit_transform(X)\n",
    "joblib.dump(tfidf, \"/home/datascientest/cde/data/model/tfidf_vectorizer_3classes.pkl\")\n"
   ]
  },
  {
   "cell_type": "markdown",
   "id": "38176fb3",
   "metadata": {},
   "source": [
    "🔀 6. Split train/test"
   ]
  },
  {
   "cell_type": "code",
   "execution_count": null,
   "id": "8a61bbee",
   "metadata": {},
   "outputs": [],
   "source": [
    "X_train, X_test, y_train, y_test = train_test_split(\n",
    "    X_vect, y, test_size=0.2, random_state=42, stratify=y\n",
    ")\n",
    "print(f\"📚 Train : {X_train.shape[0]} | 🧪 Test : {X_test.shape[0]}\")\n"
   ]
  },
  {
   "cell_type": "markdown",
   "id": "c3a5953e",
   "metadata": {},
   "source": [
    "🤖 7. Modèles à tester"
   ]
  },
  {
   "cell_type": "code",
   "execution_count": null,
   "id": "e575113c",
   "metadata": {},
   "outputs": [],
   "source": [
    "models = {\n",
    "    \"LogisticRegression\": LogisticRegression(max_iter=1000, class_weight='balanced'),\n",
    "    \"LinearSVC\": LinearSVC(class_weight='balanced')\n",
    "}\n",
    "\n",
    "results = {}\n",
    "\n",
    "for name, model in models.items():\n",
    "    print(f\"\\n🔧 Entraînement du modèle : {name}\")\n",
    "    model.fit(X_train, y_train)\n",
    "    y_pred = model.predict(X_test)\n",
    "    \n",
    "    acc = accuracy_score(y_test, y_pred)\n",
    "    print(f\"🎯 Accuracy ({name}) : {acc * 100:.2f}%\")\n",
    "    print(\"\\n📝 Rapport de classification :\\n\")\n",
    "    print(classification_report(y_test, y_pred))\n",
    "    "
   ]
  },
  {
   "cell_type": "markdown",
   "id": "ac761e0f",
   "metadata": {},
   "source": [
    "    # 📉 Matrice de confusion"
   ]
  },
  {
   "cell_type": "code",
   "execution_count": null,
   "id": "e672f538",
   "metadata": {},
   "outputs": [],
   "source": [
    "    cm = confusion_matrix(y_test, y_pred, labels=['negatif', 'neutre', 'positif'])\n",
    "    plt.figure(figsize=(7, 5))\n",
    "    sns.heatmap(cm, annot=True, fmt='d', cmap='Blues',\n",
    "                xticklabels=['negatif', 'neutre', 'positif'],\n",
    "                yticklabels=['negatif', 'neutre', 'positif'])\n",
    "    plt.title(f\"Matrice de Confusion - {name}\")\n",
    "    plt.xlabel(\"Prédit\")\n",
    "    plt.ylabel(\"Réel\")\n",
    "    plt.tight_layout()\n",
    "    plt.show()\n",
    "    "
   ]
  },
  {
   "cell_type": "markdown",
   "id": "6849620f",
   "metadata": {},
   "source": [
    "    # Sauvegarde du modèle"
   ]
  },
  {
   "cell_type": "code",
   "execution_count": null,
   "id": "18a742d6",
   "metadata": {},
   "outputs": [],
   "source": [
    "    model_path = f\"/home/datascientest/cde/data/model/{name.lower()}_3classes.pkl\"\n",
    "    joblib.dump(model, model_path)\n",
    "    print(f\"✅ Modèle {name} sauvegardé dans {model_path}\")\n",
    "    \n",
    "    results[name] = acc\n"
   ]
  },
  {
   "cell_type": "markdown",
   "id": "e36bd4ef",
   "metadata": {},
   "source": [
    "✅ Résumé final"
   ]
  },
  {
   "cell_type": "code",
   "execution_count": null,
   "id": "4bd44482",
   "metadata": {},
   "outputs": [],
   "source": [
    "print(\"\\n📊 Résumé des performances :\")\n",
    "for name, acc in results.items():\n",
    "    print(f\" - {name} : {acc * 100:.2f}%\")\n",
    "\n",
    "print(\"\\n✔ Script terminé.\")\n",
    "\n"
   ]
  }
 ],
 "metadata": {
  "kernelspec": {
   "display_name": "Python 3",
   "language": "python",
   "name": "python3"
  },
  "language_info": {
   "codemirror_mode": {
    "name": "ipython",
    "version": 3
   },
   "file_extension": ".py",
   "mimetype": "text/x-python",
   "name": "python",
   "nbconvert_exporter": "python",
   "pygments_lexer": "ipython3",
   "version": "3.9.0"
  }
 },
 "nbformat": 4,
 "nbformat_minor": 5
}
