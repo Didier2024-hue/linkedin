{
 "cells": [
  {
   "cell_type": "code",
   "execution_count": null,
   "id": "e5c71ad7",
   "metadata": {},
   "outputs": [],
   "source": [
    "import os\n",
    "import psycopg2\n",
    "import json\n",
    "import re\n",
    "from datetime import datetime\n",
    "from dotenv import load_dotenv\n"
   ]
  },
  {
   "cell_type": "markdown",
   "id": "959a519a",
   "metadata": {},
   "source": [
    "Initialisation environnement"
   ]
  },
  {
   "cell_type": "code",
   "execution_count": null,
   "id": "ca8bdd74",
   "metadata": {},
   "outputs": [],
   "source": [
    "load_dotenv()\n"
   ]
  },
  {
   "cell_type": "markdown",
   "id": "5aa5fc35",
   "metadata": {},
   "source": [
    "Configuration via variables d'environnement"
   ]
  },
  {
   "cell_type": "code",
   "execution_count": null,
   "id": "294d07cd",
   "metadata": {},
   "outputs": [],
   "source": [
    "BASE_DIR = os.environ['BASE_DIR']\n",
    "DATA_SUBDIR = os.environ.get('WIKI_DATA_DIR', 'data/wikipedia')\n",
    "LOG_SUBDIR = os.environ.get('LOG_DIR', 'log')\n"
   ]
  },
  {
   "cell_type": "markdown",
   "id": "04e8578f",
   "metadata": {},
   "source": [
    "Chemins complets"
   ]
  },
  {
   "cell_type": "code",
   "execution_count": null,
   "id": "b4924a33",
   "metadata": {},
   "outputs": [],
   "source": [
    "DATA_DIR = os.path.join(BASE_DIR, DATA_SUBDIR)\n",
    "LOG_DIR = os.path.join(BASE_DIR, LOG_SUBDIR)\n"
   ]
  },
  {
   "cell_type": "markdown",
   "id": "775dbfe3",
   "metadata": {},
   "source": [
    "Fichiers à traiter"
   ]
  },
  {
   "cell_type": "markdown",
   "id": "8d81d484",
   "metadata": {},
   "source": [
    "Connexion PostgreSQL"
   ]
  },
  {
   "cell_type": "markdown",
   "id": "3b4715f3",
   "metadata": {},
   "source": [
    "Normalisation des noms SQL"
   ]
  },
  {
   "cell_type": "markdown",
   "id": "7e5cc5b8",
   "metadata": {},
   "source": [
    "Journalisation avec affichage console"
   ]
  },
  {
   "cell_type": "markdown",
   "id": "3ecc710b",
   "metadata": {},
   "source": [
    "Traitement complet d'une entreprise"
   ]
  },
  {
   "cell_type": "code",
   "execution_count": null,
   "id": "d59d1572",
   "metadata": {},
   "outputs": [],
   "source": [
    "COMPANY_FILES = {\n",
    "    'temu': '1_infobox.json',\n",
    "    'tesla': '2_infobox.json',\n",
    "    'chronopost': '3_infobox.json',\n",
    "    'vinted': '4_infobox.json'\n",
    "}\n",
    "\n",
    "def get_db_conn():\n",
    "    return psycopg2.connect(\n",
    "        dbname=os.environ['POSTGRES_DB'],\n",
    "        user=os.environ['POSTGRES_USER'],\n",
    "        password=os.environ['POSTGRES_PASSWORD'],\n",
    "        host=os.environ['POSTGRES_HOST'],\n",
    "        port=os.environ['POSTGRES_PORT']\n",
    "    )\n",
    "\n",
    "def safe_name(name):\n",
    "    return re.sub(r'[^a-z0-9]', '_', str(name).lower()).strip('_')\n",
    "\n",
    "def log_step(message, log_file=None):\n",
    "    timestamp = datetime.now().strftime('%Y-%m-%d %H:%M:%S')\n",
    "    output = f\"[{timestamp}] {message}\"\n",
    "    print(output)\n",
    "    if log_file:\n",
    "        log_file.write(output + '\\n')\n",
    "\n",
    "def process_company(conn, log_file, company, filename):\n",
    "    try:\n",
    "        filepath = os.path.join(DATA_DIR, filename)\n",
    "        "
   ]
  },
  {
   "cell_type": "markdown",
   "id": "12d6b654",
   "metadata": {},
   "source": [
    "        # Vérification fichier"
   ]
  },
  {
   "cell_type": "code",
   "execution_count": null,
   "id": "a06d5fc3",
   "metadata": {},
   "outputs": [],
   "source": [
    "        if not os.path.exists(filepath):\n",
    "            log_step(f\"ERREUR: Fichier {filename} introuvable pour {company}\", log_file)\n",
    "            return False\n",
    "\n",
    "        log_step(f\"Début traitement {company}...\", log_file)\n",
    "        \n",
    "        with open(filepath, 'r', encoding='utf-8') as f:\n",
    "            data = json.load(f)\n",
    "\n",
    "        with conn.cursor() as cur:"
   ]
  },
  {
   "cell_type": "markdown",
   "id": "67119a49",
   "metadata": {},
   "source": [
    "            # Création table"
   ]
  },
  {
   "cell_type": "code",
   "execution_count": null,
   "id": "018e27e5",
   "metadata": {},
   "outputs": [],
   "source": [
    "            table_name = f\"wiki_{safe_name(company)}\"\n",
    "            log_step(f\"Création table {table_name}...\", log_file)\n",
    "            \n",
    "            columns = ['id SERIAL PRIMARY KEY']\n",
    "            values = []\n",
    "            placeholders = []\n",
    "            \n",
    "            for key, val in data.items():\n",
    "                col_name = safe_name(key)\n",
    "                col_type = 'TEXT'\n",
    "                \n",
    "                if isinstance(val, (int, float)):\n",
    "                    col_type = 'NUMERIC' if isinstance(val, float) else 'INTEGER'\n",
    "                columns.append(f\"{col_name} {col_type}\")\n",
    "                values.append(val)\n",
    "                placeholders.append('%s')\n"
   ]
  },
  {
   "cell_type": "markdown",
   "id": "46658fd0",
   "metadata": {},
   "source": [
    "            # Exécution SQL"
   ]
  },
  {
   "cell_type": "code",
   "execution_count": null,
   "id": "ef635f95",
   "metadata": {},
   "outputs": [],
   "source": [
    "            cur.execute(f\"DROP TABLE IF EXISTS {table_name}\")\n",
    "            cur.execute(f\"CREATE TABLE {table_name} ({', '.join(columns)})\")\n",
    "            log_step(f\"Structure créée avec {len(columns)} colonnes\", log_file)\n",
    "            "
   ]
  },
  {
   "cell_type": "markdown",
   "id": "b12cfecb",
   "metadata": {},
   "source": [
    "            # Insertion données"
   ]
  },
  {
   "cell_type": "code",
   "execution_count": null,
   "id": "6e8f8691",
   "metadata": {},
   "outputs": [],
   "source": [
    "            cur.execute(\n",
    "                f\"INSERT INTO {table_name} ({', '.join(safe_name(k) for k in data.keys())}) VALUES ({', '.join(placeholders)})\",\n",
    "                values\n",
    "            )\n",
    "            "
   ]
  },
  {
   "cell_type": "markdown",
   "id": "5a333a64",
   "metadata": {},
   "source": [
    "            # Vérification"
   ]
  },
  {
   "cell_type": "markdown",
   "id": "1bab227c",
   "metadata": {},
   "source": [
    "Exécution principale"
   ]
  },
  {
   "cell_type": "code",
   "execution_count": null,
   "id": "18b4d419",
   "metadata": {},
   "outputs": [],
   "source": [
    "            cur.execute(f\"SELECT COUNT(*) FROM {table_name}\")\n",
    "            count = cur.fetchone()[0]\n",
    "            log_step(f\"Données chargées: {count} enregistrement(s)\", log_file)\n",
    "            \n",
    "            log_step(f\"SUCCÈS: Table {table_name} prête\", log_file)\n",
    "            return True\n",
    "\n",
    "    except Exception as e:\n",
    "        log_step(f\"ÉCHEC: {str(e)}\", log_file)\n",
    "        return False\n",
    "\n",
    "def main():\n",
    "    os.makedirs(LOG_DIR, exist_ok=True)\n",
    "    log_path = os.path.join(LOG_DIR, f\"import_wiki_{datetime.now().strftime('%Y%m%d_%H%M%S')}.log\")\n",
    "    \n",
    "    with open(log_path, 'w', encoding='utf-8') as log_file:\n",
    "        log_step(\"=== DÉBUT IMPORTATION ===\", log_file)\n",
    "        \n",
    "        try:\n",
    "            with get_db_conn() as conn:\n",
    "                results = []\n",
    "                for company, filename in COMPANY_FILES.items():\n",
    "                    success = process_company(conn, log_file, company, filename)\n",
    "                    results.append(success)\n",
    "                    log_step(\"-\" * 50, log_file)  # Séparateur\n",
    "                \n",
    "                conn.commit()\n",
    "                "
   ]
  },
  {
   "cell_type": "markdown",
   "id": "0ae294e2",
   "metadata": {},
   "source": [
    "                # Rapport final"
   ]
  },
  {
   "cell_type": "code",
   "execution_count": null,
   "id": "dd22994b",
   "metadata": {},
   "outputs": [],
   "source": [
    "                success_count = sum(results)\n",
    "                total = len(COMPANY_FILES)\n",
    "                if success_count == total:\n",
    "                    log_step(f\"✅ SUCCÈS COMPLET: {success_count}/{total} tables chargées\", log_file)\n",
    "                else:\n",
    "                    log_step(f\"⚠️ TERMINÉ AVEC AVERTISSEMENT: {success_count}/{total} tables chargées\", log_file)\n",
    "                \n",
    "                return success_count == total\n",
    "\n",
    "        except Exception as e:\n",
    "            log_step(f\"❌ ERREUR CRITIQUE: {str(e)}\", log_file)\n",
    "            raise\n",
    "\n",
    "if __name__ == '__main__':\n",
    "    if main():\n",
    "        print(\"\\nOpération terminée avec succès\")\n",
    "        exit(0)\n",
    "    else:\n",
    "        print(\"\\nOpération terminée avec des erreurs\")\n",
    "        exit(1)"
   ]
  }
 ],
 "metadata": {
  "kernelspec": {
   "display_name": "Python 3",
   "language": "python",
   "name": "python3"
  },
  "language_info": {
   "codemirror_mode": {
    "name": "ipython",
    "version": 3
   },
   "file_extension": ".py",
   "mimetype": "text/x-python",
   "name": "python",
   "nbconvert_exporter": "python",
   "pygments_lexer": "ipython3",
   "version": "3.9.0"
  }
 },
 "nbformat": 4,
 "nbformat_minor": 5
}
