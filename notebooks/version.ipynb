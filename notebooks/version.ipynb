{
 "cells": [
  {
   "cell_type": "code",
   "execution_count": null,
   "id": "0b288b8a",
   "metadata": {},
   "outputs": [],
   "source": [
    "import platform\n",
    "import os\n",
    "import socket\n",
    "import subprocess\n",
    "import psutil\n",
    "\n",
    "def get_os_info():\n",
    "    return platform.platform()\n",
    "\n",
    "def get_network_info():\n",
    "    hostname = socket.gethostname()\n",
    "    ip_address = socket.gethostbyname(hostname)\n",
    "    return f\"Hostname: {hostname}, IP Address: {ip_address}\"\n",
    "\n",
    "def get_hardware_info():\n",
    "    cpu = platform.processor()\n",
    "    memory = psutil.virtual_memory()\n",
    "    return f\"CPU: {cpu}, Total Memory: {memory.total / (1024 ** 3):.2f} GB\"\n"
   ]
  },
  {
   "cell_type": "markdown",
   "id": "7c333f5d",
   "metadata": {},
   "source": [
    "#def get_environment_variables():\n",
    "#    return dict(os.environ)"
   ]
  },
  {
   "cell_type": "code",
   "execution_count": null,
   "id": "4e1097bf",
   "metadata": {},
   "outputs": [],
   "source": [
    "\n",
    "def get_running_docker_containers():\n",
    "    try:\n",
    "        containers = subprocess.check_output([\"docker\", \"ps\"]).decode(\"utf-8\")\n",
    "    except (subprocess.CalledProcessError, FileNotFoundError):\n",
    "        containers = \"No Docker containers running or Docker is not installed\"\n",
    "    return containers\n",
    "\n",
    "def get_docker_version():\n",
    "    try:\n",
    "        docker_version = subprocess.check_output([\"docker\", \"--version\"]).decode(\"utf-8\").strip()\n",
    "    except (subprocess.CalledProcessError, FileNotFoundError):\n",
    "        docker_version = \"Docker is not installed\"\n",
    "    return docker_version\n",
    "\n",
    "def get_docker_images():\n",
    "    try:\n",
    "        images = subprocess.check_output([\"docker\", \"images\"]).decode(\"utf-8\")\n",
    "    except (subprocess.CalledProcessError, FileNotFoundError):\n",
    "        images = \"No Docker images found or Docker is not installed\"\n",
    "    return images\n",
    "\n",
    "def get_postgresql_version():\n",
    "    try:\n",
    "        psql_version = subprocess.check_output([\"psql\", \"--version\"]).decode(\"utf-8\").strip()\n",
    "    except (subprocess.CalledProcessError, FileNotFoundError):\n",
    "        psql_version = \"PostgreSQL is not installed\"\n",
    "    return psql_version\n",
    "\n",
    "def main():\n",
    "    info = {\n",
    "        \"OS Information\": get_os_info(),\n",
    "        \"Network Information\": get_network_info(),\n",
    "        \"Hardware Information\": get_hardware_info(),\n",
    "        \"Running Docker Containers\": get_running_docker_containers(),\n",
    "        \"Docker Images\": get_docker_images(),"
   ]
  },
  {
   "cell_type": "markdown",
   "id": "67a0d132",
   "metadata": {},
   "source": [
    "        ##\"Environment Variables\": get_environment_variables(),"
   ]
  },
  {
   "cell_type": "code",
   "execution_count": null,
   "id": "7f75b920",
   "metadata": {},
   "outputs": [],
   "source": [
    "        \"Docker Version\": get_docker_version(),\n",
    "        \"PostgreSQL Version\": get_postgresql_version(),\n",
    "    }\n",
    "    for key, value in info.items():\n",
    "        print(f\"=== {key} ===\")\n",
    "        print(value)\n",
    "        print()\n",
    "\n",
    "if __name__ == \"__main__\":\n",
    "    main()\n",
    "\n"
   ]
  }
 ],
 "metadata": {
  "kernelspec": {
   "display_name": "Python 3",
   "language": "python",
   "name": "python3"
  },
  "language_info": {
   "codemirror_mode": {
    "name": "ipython",
    "version": 3
   },
   "file_extension": ".py",
   "mimetype": "text/x-python",
   "name": "python",
   "nbconvert_exporter": "python",
   "pygments_lexer": "ipython3",
   "version": "3.9.0"
  }
 },
 "nbformat": 4,
 "nbformat_minor": 5
}
