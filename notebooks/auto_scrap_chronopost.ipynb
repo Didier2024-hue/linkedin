{
 "cells": [
  {
   "cell_type": "code",
   "execution_count": null,
   "id": "6c2b9ab2",
   "metadata": {},
   "outputs": [],
   "source": [
    "import subprocess\n",
    "import time\n"
   ]
  },
  {
   "cell_type": "markdown",
   "id": "62656b21",
   "metadata": {},
   "source": [
    "🔧 Paramètres à ajuster"
   ]
  },
  {
   "cell_type": "code",
   "execution_count": null,
   "id": "74469b12",
   "metadata": {},
   "outputs": [],
   "source": [
    "total_pages = 1000\n",
    "pages_par_lancement = 30\n",
    "delai_minutes = 3\n",
    "nom_domaine = \"chronopost.fr\"\n",
    "\n",
    "page_courante = 1\n",
    "\n",
    "while page_courante <= total_pages:\n",
    "    print(f\"=== Lancement du scraping : pages {page_courante} à {min(page_courante + pages_par_lancement - 1, total_pages)} ===\")\n"
   ]
  },
  {
   "cell_type": "markdown",
   "id": "6086c823",
   "metadata": {},
   "source": [
    "    # Simuler les inputs du script interactif"
   ]
  },
  {
   "cell_type": "code",
   "execution_count": null,
   "id": "6204b123",
   "metadata": {},
   "outputs": [],
   "source": [
    "    inputs = f\"{nom_domaine}\\n{pages_par_lancement}\\n\"\n",
    "\n",
    "    try:\n",
    "        subprocess.run(\n",
    "            [\"python3\", \"cde_scrap_new.py\"], \n",
    "            input=inputs.encode(),\n",
    "            check=True\n",
    "        )\n",
    "    except subprocess.CalledProcessError as e:\n",
    "        print(f\"❌ Erreur lors du scraping : {e}\")\n",
    "        break\n",
    "\n",
    "    page_courante += pages_par_lancement\n",
    "\n",
    "    if page_courante <= total_pages:\n",
    "        print(f\"⏳ Attente de {delai_minutes} minutes avant prochain run...\")\n",
    "        time.sleep(delai_minutes * 60)\n",
    "\n",
    "print(\"✅ Scraping terminé sur 1000 pages.\")\n",
    "\n"
   ]
  }
 ],
 "metadata": {
  "kernelspec": {
   "display_name": "Python 3",
   "language": "python",
   "name": "python3"
  },
  "language_info": {
   "codemirror_mode": {
    "name": "ipython",
    "version": 3
   },
   "file_extension": ".py",
   "mimetype": "text/x-python",
   "name": "python",
   "nbconvert_exporter": "python",
   "pygments_lexer": "ipython3",
   "version": "3.9.0"
  }
 },
 "nbformat": 4,
 "nbformat_minor": 5
}
