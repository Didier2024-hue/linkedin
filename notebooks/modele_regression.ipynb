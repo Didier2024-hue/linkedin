{
 "cells": [
  {
   "cell_type": "code",
   "execution_count": null,
   "id": "bd9d5ced",
   "metadata": {},
   "outputs": [],
   "source": [
    "import pandas as pd\n",
    "import numpy as np\n",
    "import os\n",
    "import joblib\n",
    "import matplotlib.pyplot as plt\n",
    "import seaborn as sns\n",
    "\n",
    "from sklearn.model_selection import train_test_split, GridSearchCV\n",
    "from sklearn.feature_extraction.text import TfidfVectorizer\n",
    "from sklearn.linear_model import LogisticRegression\n",
    "from sklearn.metrics import accuracy_score, classification_report, confusion_matrix\n"
   ]
  },
  {
   "cell_type": "markdown",
   "id": "973e2eb3",
   "metadata": {},
   "source": [
    "📥 1. Chargement des données"
   ]
  },
  {
   "cell_type": "code",
   "execution_count": null,
   "id": "7174a08b",
   "metadata": {},
   "outputs": [],
   "source": [
    "print(\"📥 Chargement des données...\")\n",
    "file_path = \"/home/datascientest/cde/data/processed/preprocessed_clean_avis_avec_sentiments.csv\"\n",
    "df = pd.read_csv(file_path)\n",
    "print(f\"✅ Données chargées : {df.shape[0]} lignes\")\n"
   ]
  },
  {
   "cell_type": "markdown",
   "id": "739c4828",
   "metadata": {},
   "source": [
    "🧹 2. Nettoyage"
   ]
  },
  {
   "cell_type": "code",
   "execution_count": null,
   "id": "402263ed",
   "metadata": {},
   "outputs": [],
   "source": [
    "df = df.dropna(subset=['commentaire_preprocessed'])\n",
    "df = df[df['commentaire_preprocessed'].str.strip().astype(bool)]\n",
    "print(f\"✅ Commentaires valides : {df.shape[0]}\")\n"
   ]
  },
  {
   "cell_type": "markdown",
   "id": "495c3481",
   "metadata": {},
   "source": [
    "🧠 3. Gestion simple de la négation"
   ]
  },
  {
   "cell_type": "code",
   "execution_count": null,
   "id": "07167f7b",
   "metadata": {},
   "outputs": [],
   "source": [
    "def preserve_negation(text):\n",
    "    return text.replace(\"pas \", \"pas_\").replace(\"non \", \"non_\")\n",
    "\n",
    "df['commentaire_preprocessed'] = df['commentaire_preprocessed'].apply(preserve_negation)\n",
    "\n",
    "X = df['commentaire_preprocessed']\n",
    "y = df['note_commentaire']\n"
   ]
  },
  {
   "cell_type": "markdown",
   "id": "805e9215",
   "metadata": {},
   "source": [
    "✍️ 4. TF-IDF"
   ]
  },
  {
   "cell_type": "code",
   "execution_count": null,
   "id": "9eaf6415",
   "metadata": {},
   "outputs": [],
   "source": [
    "print(\"✍️ Vectorisation TF-IDF...\")\n",
    "tfidf = TfidfVectorizer(max_features=1000)\n",
    "X_vect = tfidf.fit_transform(X)\n",
    "joblib.dump(tfidf, \"/home/datascientest/cde/data/model/tfidf_vectorizer.pkl\")\n",
    "print(f\"✅ TF-IDF : {X_vect.shape}\")\n"
   ]
  },
  {
   "cell_type": "markdown",
   "id": "dacde8c0",
   "metadata": {},
   "source": [
    "🔀 5. Split"
   ]
  },
  {
   "cell_type": "code",
   "execution_count": null,
   "id": "3ab0b77e",
   "metadata": {},
   "outputs": [],
   "source": [
    "print(\"🔀 Split train/test...\")\n",
    "X_train, X_test, y_train, y_test = train_test_split(\n",
    "    X_vect, y, test_size=0.2, random_state=42, stratify=y\n",
    ")\n",
    "print(f\"📚 Train : {X_train.shape[0]} | 🧪 Test : {X_test.shape[0]}\")\n"
   ]
  },
  {
   "cell_type": "markdown",
   "id": "9c587472",
   "metadata": {},
   "source": [
    "🌿 6. GridSearch Logistic Regression"
   ]
  },
  {
   "cell_type": "code",
   "execution_count": null,
   "id": "0efa7c8b",
   "metadata": {},
   "outputs": [],
   "source": [
    "print(\"🌿 Optimisation du modèle Logistic Regression...\")\n",
    "param_grid = {\n",
    "    \"C\": [0.01, 0.1, 1, 10]\n",
    "}\n",
    "grid_search = GridSearchCV(\n",
    "    LogisticRegression(max_iter=1000, class_weight='balanced'),\n",
    "    param_grid,\n",
    "    scoring='f1_weighted',\n",
    "    cv=3,\n",
    "    verbose=1,\n",
    "    n_jobs=-1\n",
    ")\n",
    "grid_search.fit(X_train, y_train)\n",
    "best_model = grid_search.best_estimator_\n",
    "print(f\"✅ Meilleur modèle : {grid_search.best_params_}\")\n"
   ]
  },
  {
   "cell_type": "markdown",
   "id": "6f536fe6",
   "metadata": {},
   "source": [
    "📈 7. Évaluation"
   ]
  },
  {
   "cell_type": "code",
   "execution_count": null,
   "id": "ac824745",
   "metadata": {},
   "outputs": [],
   "source": [
    "print(\"📈 Évaluation...\")\n",
    "y_pred = best_model.predict(X_test)\n",
    "accuracy = accuracy_score(y_test, y_pred)\n",
    "print(f\"🎯 Accuracy : {accuracy * 100:.2f}%\")\n",
    "print(\"\\n📝 Rapport de classification :\\n\")\n",
    "print(classification_report(y_test, y_pred))\n"
   ]
  },
  {
   "cell_type": "markdown",
   "id": "4a3b3592",
   "metadata": {},
   "source": [
    "📉 8. Matrice de confusion (affichage + sauvegarde)"
   ]
  },
  {
   "cell_type": "code",
   "execution_count": null,
   "id": "be56e210",
   "metadata": {},
   "outputs": [],
   "source": [
    "print(\"📉 Matrice de confusion...\")\n",
    "cm = confusion_matrix(y_test, y_pred, labels=sorted(y.unique()))\n",
    "plt.figure(figsize=(8, 6))\n",
    "sns.heatmap(cm, annot=True, fmt='d', cmap='Blues',\n",
    "            xticklabels=sorted(y.unique()), yticklabels=sorted(y.unique()))\n",
    "plt.xlabel(\"Prédit\")\n",
    "plt.ylabel(\"Réel\")\n",
    "plt.title(\"Matrice de Confusion\")\n",
    "plt.tight_layout()\n",
    "plt.show()  # 👈 Affichage à l’écran\n",
    "plt.savefig(\"/home/datascientest/cde/data/processed/matrice_confusion_logreg.png\")\n",
    "plt.close()\n"
   ]
  },
  {
   "cell_type": "markdown",
   "id": "e8c4babe",
   "metadata": {},
   "source": [
    "💾 9. Sauvegarde"
   ]
  },
  {
   "cell_type": "code",
   "execution_count": null,
   "id": "70b47fcb",
   "metadata": {},
   "outputs": [],
   "source": [
    "print(\"💾 Sauvegarde du modèle...\")\n",
    "model_dir = \"/home/datascientest/cde/data/model\"\n",
    "os.makedirs(model_dir, exist_ok=True)\n",
    "joblib.dump(best_model, os.path.join(model_dir, \"logistic_model.pkl\"))\n",
    "print(\"✅ Modèle sauvegardé\")\n",
    "\n",
    "print(\"\\n✔ Script terminé avec succès.\")\n",
    "\n"
   ]
  }
 ],
 "metadata": {
  "kernelspec": {
   "display_name": "Python 3",
   "language": "python",
   "name": "python3"
  },
  "language_info": {
   "codemirror_mode": {
    "name": "ipython",
    "version": 3
   },
   "file_extension": ".py",
   "mimetype": "text/x-python",
   "name": "python",
   "nbconvert_exporter": "python",
   "pygments_lexer": "ipython3",
   "version": "3.9.0"
  }
 },
 "nbformat": 4,
 "nbformat_minor": 5
}
