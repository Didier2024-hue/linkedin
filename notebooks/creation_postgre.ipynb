{
 "cells": [
  {
   "cell_type": "code",
   "execution_count": null,
   "id": "b53c43ed",
   "metadata": {},
   "outputs": [],
   "source": [
    "import os\n",
    "import psycopg2\n",
    "from datetime import datetime\n",
    "from dotenv import load_dotenv\n"
   ]
  },
  {
   "cell_type": "markdown",
   "id": "d8a21bad",
   "metadata": {},
   "source": [
    "Charger automatiquement le fichier .env depuis le dossier courant"
   ]
  },
  {
   "cell_type": "code",
   "execution_count": null,
   "id": "70b4ed0e",
   "metadata": {},
   "outputs": [],
   "source": [
    "load_dotenv()\n"
   ]
  },
  {
   "cell_type": "markdown",
   "id": "e0477929",
   "metadata": {},
   "source": [
    "Récupérer les variables d'environnement pour les chemins"
   ]
  },
  {
   "cell_type": "code",
   "execution_count": null,
   "id": "ec058f29",
   "metadata": {},
   "outputs": [],
   "source": [
    "BASE_DIR = os.getenv(\"BASE_DIR\")\n",
    "LOG_DIR = os.getenv(\"LOG_DIR\")\n",
    "\n",
    "def ensure_log_dir():\n",
    "    if not os.path.exists(LOG_DIR):\n",
    "        os.makedirs(LOG_DIR)\n",
    "\n",
    "def get_log_file():\n",
    "    now = datetime.now().strftime(\"%Y%m%d_%H%M%S\")\n",
    "    return os.path.join(LOG_DIR, f\"create_tables_{now}.log\")\n",
    "\n",
    "class Logger:\n",
    "    def __init__(self, filepath):\n",
    "        self.filepath = filepath\n",
    "        self.log_lines = []\n",
    "\n",
    "    def print(self, msg):\n",
    "        print(msg)\n",
    "        self.log_lines.append(msg)\n",
    "\n",
    "    def save(self):\n",
    "        with open(self.filepath, \"w\", encoding=\"utf-8\") as f:\n",
    "            f.write(\"\\n\".join(self.log_lines))\n",
    "\n",
    "def connect_db():\n",
    "    return psycopg2.connect(\n",
    "        dbname=os.getenv(\"POSTGRES_DB\"),\n",
    "        user=os.getenv(\"POSTGRES_USER\"),\n",
    "        password=os.getenv(\"POSTGRES_PASSWORD\"),\n",
    "        host=os.getenv(\"POSTGRES_HOST\"),\n",
    "        port=os.getenv(\"POSTGRES_PORT\")\n",
    "    )\n",
    "\n",
    "def create_tables(cur, log):\n",
    "    log.print(\"🔄 Suppression des tables existantes si elles existent...\")\n",
    "\n",
    "    cur.execute(\"DROP TABLE IF EXISTS avis_trustpilot;\")\n",
    "    cur.execute(\"DROP TABLE IF EXISTS societe;\")\n",
    "    log.print(\"✅ Tables supprimées (si elles existaient).\")\n",
    "\n",
    "    log.print(\"🔄 Création de la table societe...\")"
   ]
  }
 ],
 "metadata": {
  "kernelspec": {
   "display_name": "Python 3",
   "language": "python",
   "name": "python3"
  },
  "language_info": {
   "codemirror_mode": {
    "name": "ipython",
    "version": 3
   },
   "file_extension": ".py",
   "mimetype": "text/x-python",
   "name": "python",
   "nbconvert_exporter": "python",
   "pygments_lexer": "ipython3",
   "version": "3.9.0"
  }
 },
 "nbformat": 4,
 "nbformat_minor": 5
}
