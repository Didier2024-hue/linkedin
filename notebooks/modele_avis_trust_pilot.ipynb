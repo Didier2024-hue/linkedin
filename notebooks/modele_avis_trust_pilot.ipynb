{
 "cells": [
  {
   "cell_type": "code",
   "execution_count": null,
   "id": "1097b741",
   "metadata": {},
   "outputs": [],
   "source": [
    "import pandas as pd\n",
    "import numpy as np\n",
    "import os\n",
    "import joblib\n",
    "import matplotlib.pyplot as plt\n",
    "import seaborn as sns\n",
    "\n",
    "from sklearn.pipeline import Pipeline\n",
    "from sklearn.model_selection import train_test_split, GridSearchCV\n",
    "from sklearn.feature_extraction.text import TfidfVectorizer\n",
    "from sklearn.ensemble import RandomForestClassifier\n",
    "from sklearn.metrics import accuracy_score, classification_report, confusion_matrix\n",
    "from sklearn.decomposition import PCA\n",
    "from imblearn.over_sampling import SMOTE\n"
   ]
  },
  {
   "cell_type": "markdown",
   "id": "9097fabe",
   "metadata": {},
   "source": [
    "📥 Étape 1 : Chargement des données"
   ]
  },
  {
   "cell_type": "code",
   "execution_count": null,
   "id": "097d8031",
   "metadata": {},
   "outputs": [],
   "source": [
    "print(\"📥 Chargement des données...\")\n",
    "file_path = \"/home/datascientest/cde/data/processed/preprocessed_clean_avis_avec_sentiments.csv\"\n",
    "df = pd.read_csv(file_path)\n",
    "print(f\"✅ Données chargées : {df.shape[0]} lignes, {df.shape[1]} colonnes\")\n"
   ]
  },
  {
   "cell_type": "markdown",
   "id": "acac9127",
   "metadata": {},
   "source": [
    "Étape 2 : Nettoyage des commentaires invalides"
   ]
  },
  {
   "cell_type": "code",
   "execution_count": null,
   "id": "e30ec1ed",
   "metadata": {},
   "outputs": [],
   "source": [
    "print(\"Nettoyage des commentaires vides ou NaN...\")\n",
    "df = df.dropna(subset=['commentaire_preprocessed'])\n",
    "df = df[df['commentaire_preprocessed'].str.strip().astype(bool)]\n",
    "print(f\"✅ Commentaires valides : {df.shape[0]}\")\n"
   ]
  },
  {
   "cell_type": "markdown",
   "id": "c18d6df6",
   "metadata": {},
   "source": [
    "Étape 3 : Préparation des variables"
   ]
  },
  {
   "cell_type": "code",
   "execution_count": null,
   "id": "9121f691",
   "metadata": {},
   "outputs": [],
   "source": [
    "X = df['commentaire_preprocessed']\n",
    "y = df['note_commentaire']\n"
   ]
  },
  {
   "cell_type": "markdown",
   "id": "c4ab127c",
   "metadata": {},
   "source": [
    "✍️ Étape 4 : Vectorisation TF-IDF"
   ]
  },
  {
   "cell_type": "code",
   "execution_count": null,
   "id": "7ae0999a",
   "metadata": {},
   "outputs": [],
   "source": [
    "print(\"✍️ Vectorisation TF-IDF...\")\n",
    "tfidf = TfidfVectorizer(max_features=1000)\n",
    "X_vect = tfidf.fit_transform(X)\n",
    "joblib.dump(tfidf, \"/home/datascientest/cde/data/model/tfidf_vectorizer.pkl\")\n",
    "print(f\"✅ TF-IDF terminé : {X_vect.shape[0]} documents, {X_vect.shape[1]} dimensions\")\n"
   ]
  },
  {
   "cell_type": "markdown",
   "id": "578d91b0",
   "metadata": {},
   "source": [
    "Étape 5 : Top 20 mots TF-IDF"
   ]
  },
  {
   "cell_type": "code",
   "execution_count": null,
   "id": "d7ee42a2",
   "metadata": {},
   "outputs": [],
   "source": [
    "word_scores = np.asarray(X_vect.sum(axis=0)).ravel()\n",
    "vocab = tfidf.get_feature_names_out()\n",
    "top_idx = word_scores.argsort()[-20:][::-1]\n",
    "top_words = [vocab[i] for i in top_idx]\n",
    "top_scores = [word_scores[i] for i in top_idx]\n",
    "\n",
    "plt.figure(figsize=(10, 6))\n",
    "plt.barh(top_words[::-1], top_scores[::-1], color=plt.cm.viridis(np.linspace(0, 1, len(top_words))))\n",
    "plt.xlabel(\"Score TF-IDF cumulé\")\n",
    "plt.title(\"Top 20 mots les plus fréquents\")\n",
    "plt.tight_layout()\n",
    "plt.savefig(\"/home/datascientest/cde/data/processed/tfidf_top_words.png\")\n",
    "plt.close()\n"
   ]
  },
  {
   "cell_type": "markdown",
   "id": "c9002bb8",
   "metadata": {},
   "source": [
    "⚖️ Étape 6 : Équilibrage avec SMOTE"
   ]
  },
  {
   "cell_type": "code",
   "execution_count": null,
   "id": "3836043c",
   "metadata": {},
   "outputs": [],
   "source": [
    "print(\"⚖️ Application de SMOTE pour équilibrage des classes...\")\n",
    "smote = SMOTE(random_state=42)\n",
    "X_resampled, y_resampled = smote.fit_resample(X_vect, y)\n",
    "print(f\"✅ Données équilibrées : {X_resampled.shape[0]} échantillons\")\n"
   ]
  },
  {
   "cell_type": "markdown",
   "id": "6a024c9a",
   "metadata": {},
   "source": [
    "Étape 7 : PCA avant/après SMOTE"
   ]
  },
  {
   "cell_type": "code",
   "execution_count": null,
   "id": "296b346c",
   "metadata": {},
   "outputs": [],
   "source": [
    "pca = PCA(n_components=2, random_state=42)\n",
    "X_pca_before = pca.fit_transform(X_vect.toarray())\n",
    "X_pca_after = pca.fit_transform(X_resampled.toarray())\n",
    "\n",
    "fig, axes = plt.subplots(1, 2, figsize=(14, 6))\n",
    "axes[0].scatter(X_pca_before[:, 0], X_pca_before[:, 1], c=y, cmap='tab10', s=10)\n",
    "axes[0].set_title(\"Avant SMOTE\")\n",
    "axes[1].scatter(X_pca_after[:, 0], X_pca_after[:, 1], c=y_resampled, cmap='tab10', s=10)\n",
    "axes[1].set_title(\"Après SMOTE\")\n",
    "plt.savefig(\"/home/datascientest/cde/data/processed/smote_projection_pca.png\")\n",
    "plt.close()\n"
   ]
  },
  {
   "cell_type": "markdown",
   "id": "d4afaae9",
   "metadata": {},
   "source": [
    "🔀 Étape 8 : Split train/test"
   ]
  },
  {
   "cell_type": "code",
   "execution_count": null,
   "id": "f9407fcf",
   "metadata": {},
   "outputs": [],
   "source": [
    "print(\"🔀 Split des données (80% train / 20% test)...\")\n",
    "X_train, X_test, y_train, y_test = train_test_split(\n",
    "    X_resampled, y_resampled, test_size=0.2, random_state=42, stratify=y_resampled\n",
    ")\n",
    "print(f\"📚 Train : {X_train.shape[0]} | 🧪 Test : {X_test.shape[0]}\")\n"
   ]
  },
  {
   "cell_type": "markdown",
   "id": "07840d5c",
   "metadata": {},
   "source": [
    "🌲 Étape 9 : GridSearch pour optimiser Random Forest"
   ]
  },
  {
   "cell_type": "code",
   "execution_count": null,
   "id": "c03ab5fc",
   "metadata": {},
   "outputs": [],
   "source": [
    "print(\"🌲 Recherche des meilleurs hyperparamètres Random Forest...\")\n",
    "param_grid = {\n",
    "    \"n_estimators\": [100, 200],\n",
    "    \"max_depth\": [None, 10, 20],\n",
    "    \"min_samples_split\": [2, 5]\n",
    "}\n",
    "grid_search = GridSearchCV(\n",
    "    RandomForestClassifier(random_state=42),\n",
    "    param_grid,\n",
    "    cv=3,\n",
    "    n_jobs=-1,\n",
    "    scoring='accuracy',\n",
    "    verbose=1\n",
    ")\n",
    "grid_search.fit(X_train, y_train)\n",
    "best_rf = grid_search.best_estimator_\n",
    "print(f\"✅ Meilleur modèle : {grid_search.best_params_}\")\n"
   ]
  },
  {
   "cell_type": "markdown",
   "id": "b3801934",
   "metadata": {},
   "source": [
    "📈 Étape 10 : Évaluation"
   ]
  },
  {
   "cell_type": "code",
   "execution_count": null,
   "id": "f06a992f",
   "metadata": {},
   "outputs": [],
   "source": [
    "print(\"📈 Évaluation du modèle sélectionné...\")\n",
    "y_pred = best_rf.predict(X_test)\n",
    "accuracy = accuracy_score(y_test, y_pred)\n",
    "print(f\"🎯 Accuracy : {accuracy:.4f}\")\n",
    "print(\"\\n📝 Rapport de classification :\\n\")\n",
    "print(classification_report(y_test, y_pred))\n"
   ]
  },
  {
   "cell_type": "markdown",
   "id": "908131ec",
   "metadata": {},
   "source": [
    "Étape 11 : Matrice de confusion"
   ]
  },
  {
   "cell_type": "code",
   "execution_count": null,
   "id": "ab64555b",
   "metadata": {},
   "outputs": [],
   "source": [
    "print(\"📉 Matrice de confusion...\")\n",
    "cm = confusion_matrix(y_test, y_pred, labels=sorted(y.unique()))\n",
    "plt.figure(figsize=(8, 6))\n",
    "sns.heatmap(cm, annot=True, fmt='d', cmap='Blues',\n",
    "            xticklabels=sorted(y.unique()), yticklabels=sorted(y.unique()))\n",
    "plt.xlabel(\"Prédit\")\n",
    "plt.ylabel(\"Réel\")\n",
    "plt.title(\"Matrice de Confusion\")\n",
    "plt.tight_layout()\n",
    "plt.savefig(\"/home/datascientest/cde/data/processed/matrice_de_confusion.png\")\n",
    "plt.close()\n"
   ]
  },
  {
   "cell_type": "markdown",
   "id": "fc037bd7",
   "metadata": {},
   "source": [
    "💾 Étape 12 : Sauvegarde du meilleur modèle"
   ]
  },
  {
   "cell_type": "code",
   "execution_count": null,
   "id": "18cd0b12",
   "metadata": {},
   "outputs": [],
   "source": [
    "print(\"💾 Sauvegarde du modèle optimisé...\")\n",
    "model_dir = \"/home/datascientest/cde/data/model\"\n",
    "os.makedirs(model_dir, exist_ok=True)\n",
    "joblib.dump(best_rf, os.path.join(model_dir, \"random_forest_model.pkl\"))\n",
    "print(\"✅ Modèle sauvegardé\")\n",
    "\n",
    "print(\"\\n✔ Script terminé avec succès.\")\n"
   ]
  }
 ],
 "metadata": {
  "kernelspec": {
   "display_name": "Python 3",
   "language": "python",
   "name": "python3"
  },
  "language_info": {
   "codemirror_mode": {
    "name": "ipython",
    "version": 3
   },
   "file_extension": ".py",
   "mimetype": "text/x-python",
   "name": "python",
   "nbconvert_exporter": "python",
   "pygments_lexer": "ipython3",
   "version": "3.9.0"
  }
 },
 "nbformat": 4,
 "nbformat_minor": 5
}
