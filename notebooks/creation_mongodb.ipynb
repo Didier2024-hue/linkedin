{
 "cells": [
  {
   "cell_type": "code",
   "execution_count": null,
   "id": "29ada7e9",
   "metadata": {},
   "outputs": [],
   "source": [
    "import os\n",
    "import logging\n",
    "import time\n",
    "from dotenv import load_dotenv\n",
    "from pymongo import MongoClient, ASCENDING\n"
   ]
  },
  {
   "cell_type": "markdown",
   "id": "31c7932c",
   "metadata": {},
   "source": [
    "🔧 Chargement des variables d'environnement"
   ]
  },
  {
   "cell_type": "code",
   "execution_count": null,
   "id": "d5b27ef4",
   "metadata": {},
   "outputs": [],
   "source": [
    "load_dotenv()\n"
   ]
  },
  {
   "cell_type": "markdown",
   "id": "a2218bb4",
   "metadata": {},
   "source": [
    "Connexion MongoDB"
   ]
  },
  {
   "cell_type": "code",
   "execution_count": null,
   "id": "be240da3",
   "metadata": {},
   "outputs": [],
   "source": [
    "MONGO_USER = os.getenv('MONGO_USER')\n",
    "MONGO_PASSWORD = os.getenv('MONGO_PASSWORD')\n",
    "MONGO_HOST = os.getenv('MONGO_HOST')\n",
    "MONGO_PORT = os.getenv('MONGO_PORT')\n",
    "MONGO_DB = os.getenv('MONGO_DB')\n"
   ]
  },
  {
   "cell_type": "markdown",
   "id": "8f30617c",
   "metadata": {},
   "source": [
    "Chemins depuis .env"
   ]
  },
  {
   "cell_type": "code",
   "execution_count": null,
   "id": "ebdb4389",
   "metadata": {},
   "outputs": [],
   "source": [
    "BASE_DIR = os.getenv('BASE_DIR')\n",
    "LOG_DIR = os.getenv('LOG_DIR') or os.path.join(BASE_DIR, 'log')\n",
    "os.makedirs(LOG_DIR, exist_ok=True)\n",
    "LOG_FILE = os.path.join(LOG_DIR, 'mongodb_import.log')\n"
   ]
  },
  {
   "cell_type": "markdown",
   "id": "807ec31e",
   "metadata": {},
   "source": [
    "URI Mongo"
   ]
  },
  {
   "cell_type": "code",
   "execution_count": null,
   "id": "e20f7ce4",
   "metadata": {},
   "outputs": [],
   "source": [
    "MONGO_URI = f\"mongodb://{MONGO_USER}:{MONGO_PASSWORD}@{MONGO_HOST}:{MONGO_PORT}/{MONGO_DB}?authSource=admin\"\n"
   ]
  },
  {
   "cell_type": "markdown",
   "id": "abcab717",
   "metadata": {},
   "source": [
    "🗂️ Configuration des logs"
   ]
  },
  {
   "cell_type": "code",
   "execution_count": null,
   "id": "5b43c177",
   "metadata": {},
   "outputs": [],
   "source": [
    "logging.basicConfig(\n",
    "    level=logging.INFO,\n",
    "    format='%(asctime)s - %(levelname)s - %(message)s',\n",
    "    handlers=[\n",
    "        logging.FileHandler(LOG_FILE, encoding='utf-8'),\n",
    "        logging.StreamHandler()\n",
    "    ]\n",
    ")\n",
    "\n",
    "def banner(text):\n",
    "    sep = '*' * 70\n",
    "    return f\"\\n{sep}\\n*** {text}\\n{sep}\\n\"\n",
    "\n",
    "def create_indexes(db):\n",
    "    try:\n",
    "        logging.info(\"📌 Création des index...\")\n",
    "        db.societe.create_index([('nom', ASCENDING)], unique=True)\n",
    "        db.avis_trustpilot.create_index([('nom_societe', ASCENDING)])\n",
    "        logging.info(\"✅ Index créés avec succès.\")\n",
    "    except Exception as e:\n",
    "        logging.error(f\"❌ Erreur création index : {str(e)}\")\n",
    "\n",
    "def get_collection_stats(db, collection_name):\n",
    "    return {\n",
    "        'count': db[collection_name].estimated_document_count(),\n",
    "        'size': db.command('collstats', collection_name).get('size', 0)\n",
    "    }\n",
    "\n",
    "def display_collection_preview(db, collection_name, limit=5):\n",
    "    try:\n",
    "        stats = get_collection_stats(db, collection_name)\n",
    "\n",
    "        logging.info(banner(\n",
    "            f\"📊 Aperçu de la collection: {collection_name}\\n\"\n",
    "            f\"📄 Documents: {stats['count']:,} | 💾 Taille: {stats['size']:,} octets\"\n",
    "        ))\n",
    "\n",
    "        cursor = db[collection_name].find().limit(limit)\n",
    "        for i, doc in enumerate(cursor, 1):\n",
    "            logging.info(f\"🔎 Document {i}: {doc}\")\n",
    "\n",
    "        if stats['count'] == 0:\n",
    "            logging.warning(\"⚠️ Aucun document trouvé.\")\n",
    "\n",
    "    except Exception as e:\n",
    "        logging.error(f\"❌ Erreur accès collection {collection_name}: {str(e)}\")\n",
    "    \n",
    "    time.sleep(1)\n",
    "\n",
    "def main():\n",
    "    try:\n",
    "        logging.info(banner(\"🚀 Connexion à MongoDB\"))\n",
    "        client = MongoClient(\n",
    "            MONGO_URI,\n",
    "            serverSelectionTimeoutMS=5000,\n",
    "            connectTimeoutMS=3000\n",
    "        )\n",
    "\n",
    "        client.admin.command('ping')\n",
    "        db = client[MONGO_DB]\n",
    "        logging.info(f\"✅ Connexion réussie à la base : {MONGO_DB}\")\n",
    "\n",
    "        logging.info(banner(\"🔧 Création des index\"))\n",
    "        create_indexes(db)\n",
    "\n",
    "        logging.info(banner(\"📈 Statistiques des collections\"))\n",
    "        for col in db.list_collection_names():\n",
    "            stats = get_collection_stats(db, col)\n",
    "            logging.info(\n",
    "                f\"{col.ljust(20)}: {str(stats['count']).rjust(8)} documents | \"\n",
    "                f\"{str(round(stats['size'] / (1024 * 1024), 2)).rjust(6)} MB\"\n",
    "            )\n",
    "\n",
    "        for col in ['societe', 'avis_trustpilot']:\n",
    "            if col in db.list_collection_names():\n",
    "                display_collection_preview(db, col)\n",
    "                logging.info(\"\\n\" + \"=\"*70 + \"\\n\")\n",
    "                time.sleep(1)\n",
    "\n",
    "    except Exception as e:\n",
    "        logging.critical(f\"❌ ERREUR critique : {str(e)}\")\n",
    "    finally:\n",
    "        if 'client' in locals():\n",
    "            client.close()\n",
    "            logging.info(banner(\"🔒 Connexion fermée proprement\"))\n",
    "\n",
    "if __name__ == \"__main__\":\n",
    "    main()\n"
   ]
  }
 ],
 "metadata": {
  "kernelspec": {
   "display_name": "Python 3",
   "language": "python",
   "name": "python3"
  },
  "language_info": {
   "codemirror_mode": {
    "name": "ipython",
    "version": 3
   },
   "file_extension": ".py",
   "mimetype": "text/x-python",
   "name": "python",
   "nbconvert_exporter": "python",
   "pygments_lexer": "ipython3",
   "version": "3.9.0"
  }
 },
 "nbformat": 4,
 "nbformat_minor": 5
}
