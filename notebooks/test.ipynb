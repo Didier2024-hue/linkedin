{
 "cells": [
  {
   "cell_type": "markdown",
   "id": "09fc42e2",
   "metadata": {},
   "source": [
    "Exemple minimal pour récupérer le JSON"
   ]
  },
  {
   "cell_type": "code",
   "execution_count": null,
   "id": "a6706cf5",
   "metadata": {},
   "outputs": [],
   "source": [
    "import requests\n",
    "from fake_useragent import UserAgent\n",
    "\n",
    "url = \"https://fr.trustpilot.com/review/chronopost.fr?page=1\"\n",
    "headers = {'User-Agent': UserAgent().random}\n",
    "resp = requests.get(url, headers=headers)\n",
    "start = resp.text.find('<script id=\"__NEXT_DATA__\" type=\"application/json\">')\n",
    "start += len('<script id=\"__NEXT_DATA__\" type=\"application/json\">')\n",
    "end = resp.text.find('</script>', start)\n",
    "json_str = resp.text[start:end]\n",
    "\n",
    "with open(\"next_data.json\", \"w\", encoding=\"utf-8\") as f:\n",
    "    f.write(json_str)\n",
    "print(\"JSON sauvegardé dans next_data.json\")\n",
    "\n"
   ]
  }
 ],
 "metadata": {
  "kernelspec": {
   "display_name": "Python 3",
   "language": "python",
   "name": "python3"
  },
  "language_info": {
   "codemirror_mode": {
    "name": "ipython",
    "version": 3
   },
   "file_extension": ".py",
   "mimetype": "text/x-python",
   "name": "python",
   "nbconvert_exporter": "python",
   "pygments_lexer": "ipython3",
   "version": "3.9.0"
  }
 },
 "nbformat": 4,
 "nbformat_minor": 5
}
