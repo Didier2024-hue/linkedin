{
 "cells": [
  {
   "cell_type": "code",
   "execution_count": null,
   "id": "4b7b3b43",
   "metadata": {},
   "outputs": [],
   "source": [
    "import os\n",
    "import logging\n",
    "from dotenv import load_dotenv\n",
    "from pymongo import MongoClient\n",
    "import pandas as pd\n",
    "from datetime import datetime\n"
   ]
  },
  {
   "cell_type": "markdown",
   "id": "04899812",
   "metadata": {},
   "source": [
    "Chargement des variables d'environnement"
   ]
  },
  {
   "cell_type": "code",
   "execution_count": null,
   "id": "c32065a2",
   "metadata": {},
   "outputs": [],
   "source": [
    "load_dotenv()\n"
   ]
  },
  {
   "cell_type": "markdown",
   "id": "e1f05a5c",
   "metadata": {},
   "source": [
    "Variables d'environnement requises"
   ]
  },
  {
   "cell_type": "code",
   "execution_count": null,
   "id": "4008c84c",
   "metadata": {},
   "outputs": [],
   "source": [
    "REQUIRED_ENV_VARS = ['DATA_EXPORTS', 'MONGO_URI', 'LOG_DIR']\n",
    "missing_vars = [var for var in REQUIRED_ENV_VARS if not os.getenv(var)]\n",
    "if missing_vars:\n",
    "    print(f\"\\n❌ ERREUR : Variables manquantes dans .env : {', '.join(missing_vars)}\")\n",
    "    raise EnvironmentError(\"Configuration manquante\")\n",
    "\n",
    "EXPORT_DIR = os.getenv('DATA_EXPORTS')\n",
    "MONGO_URI = os.getenv('MONGO_URI')\n",
    "MONGO_DB = os.getenv('MONGO_DB') or 'trustpilot'\n",
    "LOG_DIR = os.getenv('LOG_DIR')\n",
    "TIMESTAMP = datetime.now().strftime('%Y%m%d_%H%M%S')\n"
   ]
  },
  {
   "cell_type": "markdown",
   "id": "8f6ca979",
   "metadata": {},
   "source": [
    "Initialisation du logger"
   ]
  },
  {
   "cell_type": "markdown",
   "id": "959131c1",
   "metadata": {},
   "source": [
    "Vérifie que le répertoire d'export est accessible"
   ]
  },
  {
   "cell_type": "markdown",
   "id": "5b414d2d",
   "metadata": {},
   "source": [
    "Connexion MongoDB"
   ]
  },
  {
   "cell_type": "markdown",
   "id": "1214bb7b",
   "metadata": {},
   "source": [
    "Exporte les collections avis_trustpilot et societe"
   ]
  },
  {
   "cell_type": "code",
   "execution_count": null,
   "id": "f2b80644",
   "metadata": {},
   "outputs": [],
   "source": [
    "log_filename = os.path.join(LOG_DIR, f\"export_mongo_trustpilot_avis_{TIMESTAMP}.log\")\n",
    "os.makedirs(LOG_DIR, exist_ok=True)\n",
    "\n",
    "logging.basicConfig(\n",
    "    level=logging.INFO,\n",
    "    format='%(asctime)s - %(levelname)s - %(message)s',\n",
    "    handlers=[\n",
    "        logging.FileHandler(log_filename, encoding='utf-8'),\n",
    "        logging.StreamHandler()\n",
    "    ]\n",
    ")\n",
    "\n",
    "def verify_export_dir():\n",
    "    logging.info(f\"Vérification du répertoire d'export : {EXPORT_DIR}\")\n",
    "    if not os.path.isdir(EXPORT_DIR):\n",
    "        raise NotADirectoryError(f\"Le répertoire {EXPORT_DIR} n'existe pas\")\n",
    "    try:\n",
    "        test_file = os.path.join(EXPORT_DIR, 'test.tmp')\n",
    "        with open(test_file, 'w') as f:\n",
    "            f.write('test')\n",
    "        os.remove(test_file)\n",
    "        logging.info(\"✓ Répertoire d'export valide\")\n",
    "    except Exception as e:\n",
    "        raise PermissionError(f\"Impossible d'écrire dans {EXPORT_DIR} : {e}\")\n",
    "\n",
    "def init_mongo_client():\n",
    "    logging.info(f\"Connexion à MongoDB...\")\n",
    "    try:\n",
    "        client = MongoClient(MONGO_URI)\n",
    "        client.admin.command('ping')\n",
    "        logging.info(\"✓ Connexion MongoDB réussie\")\n",
    "        return client\n",
    "    except Exception as e:\n",
    "        raise ConnectionError(f\"Erreur de connexion MongoDB : {e}\")\n",
    "\n",
    "def export_trustpilot_collections(client):\n",
    "    logging.info(\"Export des collections depuis la base 'trustpilot'\")\n",
    "    db = client[MONGO_DB]\n",
    "    target_collections = ['avis_trustpilot', 'societe']\n",
    "\n",
    "    for col_name in target_collections:\n",
    "        logging.info(f\"→ Export de la collection : {col_name}\")\n",
    "        try:\n",
    "            docs = list(db[col_name].find({}, {'_id': 0}))\n",
    "            if not docs:\n",
    "                logging.warning(f\"Collection {col_name} vide – ignorée\")\n",
    "                continue\n",
    "\n",
    "            filename = f\"mongo_trustpilot_{col_name}.csv\"\n",
    "            filepath = os.path.join(EXPORT_DIR, filename)\n",
    "            df = pd.DataFrame(docs)\n",
    "            df.to_csv(filepath, index=False, encoding='utf-8-sig')\n",
    "\n",
    "            logging.info(f\"   ✓ {len(df)} lignes exportées\")\n",
    "            logging.info(f\"   📄 Fichier généré : {filename}\")\n",
    "        except Exception as e:\n",
    "            logging.error(f\"   ❌ Erreur lors de l'export de {col_name} : {e}\")\n",
    "\n",
    "def main():\n",
    "    print(\"\\n\" + \"=\"*50)\n",
    "    print(\"  EXPORT MONGODB TRUSTPILOT AVIS\")\n",
    "    print(\"=\"*50)\n",
    "\n",
    "    client = None\n",
    "    try:\n",
    "        verify_export_dir()\n",
    "        client = init_mongo_client()\n",
    "        export_trustpilot_collections(client)\n",
    "        logging.info(\"✅ Export terminé avec succès.\")\n",
    "    except Exception as e:\n",
    "        logging.error(f\"❌ ERREUR : Le processus a échoué : {e}\")\n",
    "    finally:\n",
    "        if client:\n",
    "            client.close()\n",
    "            logging.info(\"🔌 Connexion MongoDB fermée.\")\n",
    "\n",
    "if __name__ == \"__main__\":\n",
    "    main()\n"
   ]
  }
 ],
 "metadata": {
  "kernelspec": {
   "display_name": "Python 3",
   "language": "python",
   "name": "python3"
  },
  "language_info": {
   "codemirror_mode": {
    "name": "ipython",
    "version": 3
   },
   "file_extension": ".py",
   "mimetype": "text/x-python",
   "name": "python",
   "nbconvert_exporter": "python",
   "pygments_lexer": "ipython3",
   "version": "3.9.0"
  }
 },
 "nbformat": 4,
 "nbformat_minor": 5
}
